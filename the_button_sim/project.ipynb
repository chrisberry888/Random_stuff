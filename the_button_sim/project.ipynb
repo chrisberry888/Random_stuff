{
 "cells": [
  {
   "cell_type": "code",
   "execution_count": 1,
   "metadata": {},
   "outputs": [],
   "source": [
    "import statistics\n",
    "import matplotlib.pyplot as plt\n",
    "import numpy as np\n",
    "import pandas as pd\n",
    "from game_obj import Game\n",
    "from session_obj import Session\n"
   ]
  },
  {
   "cell_type": "code",
   "execution_count": 8,
   "metadata": {},
   "outputs": [
    {
     "name": "stdout",
     "output_type": "stream",
     "text": [
      "Max Value: 44\n",
      "Total Presses: 1000000\n",
      "Total Resets: 75526\n",
      "Presses to 0: 0\n",
      "Presses to 1: 1\n",
      "Presses to 2: 2\n",
      "Presses to 3: 3\n",
      "Presses to 4: 4\n",
      "Presses to 5: 10\n",
      "Presses to 6: 11\n",
      "Presses to 7: 12\n",
      "Presses to 8: 13\n",
      "Presses to 9: 14\n",
      "Presses to 10: 15\n",
      "Presses to 11: 16\n",
      "Presses to 12: 17\n",
      "Presses to 13: 18\n",
      "Presses to 14: 19\n",
      "Presses to 15: 20\n",
      "Presses to 16: 21\n",
      "Presses to 17: 22\n",
      "Presses to 18: 100\n",
      "Presses to 19: 101\n",
      "Presses to 20: 102\n",
      "Presses to 21: 103\n",
      "Presses to 22: 104\n",
      "Presses to 23: 105\n",
      "Presses to 24: 106\n",
      "Presses to 25: 107\n",
      "Presses to 26: 108\n",
      "Presses to 27: 170\n",
      "Presses to 28: 171\n",
      "Presses to 29: 1383\n",
      "Presses to 30: 1384\n",
      "Presses to 31: 1385\n",
      "Presses to 32: 1386\n",
      "Presses to 33: 1387\n",
      "Presses to 34: 2300\n",
      "Presses to 35: 2301\n",
      "Presses to 36: 2302\n",
      "Presses to 37: 2303\n",
      "Presses to 38: 43609\n",
      "Presses to 39: 43610\n",
      "Presses to 40: 100855\n",
      "Presses to 41: 100856\n",
      "Presses to 42: 100857\n",
      "Presses to 43: 355860\n",
      "Presses to 44: 926041\n"
     ]
    }
   ],
   "source": [
    "first_game = Game()\n",
    "\n",
    "for i in range(1000000):\n",
    "    first_game.push_button()\n",
    "\n",
    "print(f\"Max Value: {first_game.max_value}\")\n",
    "print(f\"Total Presses: {first_game.total_presses}\")\n",
    "print(f\"Total Resets: {first_game.total_resets}\")\n",
    "\n",
    "i = 0\n",
    "for value in first_game.presses_to_new_max:\n",
    "    print(f\"Presses to {i}: {value}\")\n",
    "    i += 1"
   ]
  },
  {
   "cell_type": "code",
   "execution_count": 4,
   "metadata": {},
   "outputs": [
    {
     "name": "stdout",
     "output_type": "stream",
     "text": [
      "Max Value: 47\n",
      "Total Presses: 1000000\n",
      "Total Resets: 75434\n",
      "Presses to 0: 0\n",
      "Presses to 1: 1\n",
      "Presses to 2: 2\n",
      "Presses to 3: 3\n",
      "Presses to 4: 4\n",
      "Presses to 5: 5\n",
      "Presses to 6: 6\n",
      "Presses to 7: 7\n",
      "Presses to 8: 8\n",
      "Presses to 9: 9\n",
      "Presses to 10: 10\n",
      "Presses to 11: 11\n",
      "Presses to 12: 12\n",
      "Presses to 13: 13\n",
      "Presses to 14: 14\n",
      "Presses to 15: 65\n",
      "Presses to 16: 66\n",
      "Presses to 17: 94\n",
      "Presses to 18: 95\n",
      "Presses to 19: 96\n",
      "Presses to 20: 97\n",
      "Presses to 21: 98\n",
      "Presses to 22: 99\n",
      "Presses to 23: 100\n",
      "Presses to 24: 177\n",
      "Presses to 25: 178\n",
      "Presses to 26: 542\n",
      "Presses to 27: 988\n",
      "Presses to 28: 989\n",
      "Presses to 29: 990\n",
      "Presses to 30: 991\n",
      "Presses to 31: 992\n",
      "Presses to 32: 2419\n",
      "Presses to 33: 2420\n",
      "Presses to 34: 2421\n",
      "Presses to 35: 2595\n",
      "Presses to 36: 42144\n",
      "Presses to 37: 42145\n",
      "Presses to 38: 42146\n",
      "Presses to 39: 55981\n",
      "Presses to 40: 104983\n",
      "Presses to 41: 104984\n",
      "Presses to 42: 104985\n",
      "Presses to 43: 389881\n",
      "Presses to 44: 389882\n",
      "Presses to 45: 389883\n",
      "Presses to 46: 389884\n",
      "Presses to 47: 389885\n",
      "\n"
     ]
    }
   ],
   "source": [
    "print(first_game.report_stats())"
   ]
  },
  {
   "cell_type": "code",
   "execution_count": 4,
   "metadata": {},
   "outputs": [
    {
     "name": "stdout",
     "output_type": "stream",
     "text": [
      "23.36\n"
     ]
    }
   ],
   "source": [
    "total_above_37 = 0\n",
    "for i in range(5000):\n",
    "    current_game = Game()\n",
    "    for j in range(27500):\n",
    "        current_game.push_button()\n",
    "    if current_game.max_value >= 38:\n",
    "        total_above_37 += 1\n",
    "\n",
    "print(total_above_37/100)"
   ]
  },
  {
   "cell_type": "code",
   "execution_count": 6,
   "metadata": {},
   "outputs": [
    {
     "name": "stdout",
     "output_type": "stream",
     "text": [
      "Max Value: 39\n",
      "Total Presses: 100000\n",
      "Total Resets: 7585\n",
      "Presses to 0: 0\n",
      "Presses to 1: 1\n",
      "Presses to 2: 2\n",
      "Presses to 3: 3\n",
      "Presses to 4: 4\n",
      "Presses to 5: 5\n",
      "Presses to 6: 6\n",
      "Presses to 7: 7\n",
      "Presses to 8: 8\n",
      "Presses to 9: 9\n",
      "Presses to 10: 20\n",
      "Presses to 11: 21\n",
      "Presses to 12: 22\n",
      "Presses to 13: 67\n",
      "Presses to 14: 68\n",
      "Presses to 15: 69\n",
      "Presses to 16: 102\n",
      "Presses to 17: 103\n",
      "Presses to 18: 104\n",
      "Presses to 19: 145\n",
      "Presses to 20: 180\n",
      "Presses to 21: 181\n",
      "Presses to 22: 182\n",
      "Presses to 23: 360\n",
      "Presses to 24: 361\n",
      "Presses to 25: 362\n",
      "Presses to 26: 363\n",
      "Presses to 27: 364\n",
      "Presses to 28: 365\n",
      "Presses to 29: 366\n",
      "Presses to 30: 367\n",
      "Presses to 31: 368\n",
      "Presses to 32: 369\n",
      "Presses to 33: 2350\n",
      "Presses to 34: 2351\n",
      "Presses to 35: 31264\n",
      "Presses to 36: 31265\n",
      "Presses to 37: 31266\n",
      "Presses to 38: 31267\n",
      "Presses to 39: 31268\n",
      "\n"
     ]
    }
   ],
   "source": [
    "print(games[45].report_stats())"
   ]
  },
  {
   "cell_type": "code",
   "execution_count": 10,
   "metadata": {},
   "outputs": [],
   "source": [
    "sessions = []\n",
    "for i in range(10000000):\n",
    "    current_session = Session()\n",
    "    ticker = True\n",
    "    while ticker:\n",
    "        ticker = current_session.push_button()\n",
    "    sessions.append(current_session.current_value)\n"
   ]
  },
  {
   "cell_type": "code",
   "execution_count": 12,
   "metadata": {},
   "outputs": [
    {
     "name": "stdout",
     "output_type": "stream",
     "text": [
      "[0, 99952, 197738, 291651, 377776, 451598, 515277, 564462, 600564, 618967, 628399, 622654, 603173, 575856, 539351, 497505, 450380, 402643, 353750, 305532, 260730, 218780, 180702, 147417, 118991, 94411, 73168, 56035, 42782, 31883, 23371, 16976, 11835, 8401, 5901, 4057, 2632, 1739, 1112, 726, 455, 292, 158, 90, 65, 25, 11, 16, 4, 4, 2, 1, 0, 0, 0, 0, 0, 0, 0, 0]\n"
     ]
    }
   ],
   "source": [
    "counts = []\n",
    "for i in range(60):\n",
    "    counts.append(sessions.count(i))\n",
    "\n",
    "print(counts)"
   ]
  },
  {
   "cell_type": "code",
   "execution_count": 13,
   "metadata": {},
   "outputs": [
    {
     "data": {
      "image/png": "[encoded data removed]",
      "text/plain": [
       "<Figure size 640x480 with 1 Axes>"
      ]
     },
     "metadata": {},
     "output_type": "display_data"
    }
   ],
   "source": [
    "plt.bar(range(60), counts)\n",
    "plt.show()"
   ]
  },
  {
   "cell_type": "code",
   "execution_count": 14,
   "metadata": {},
   "outputs": [],
   "source": [
    "totals = [sum(counts[i:]) for i in range(60)]"
   ]
  },
  {
   "cell_type": "code",
   "execution_count": 17,
   "metadata": {},
   "outputs": [
    {
     "name": "stdout",
     "output_type": "stream",
     "text": [
      "[100.0, 100.0, 99.00048, 97.0231, 94.10659, 90.32883, 85.81285, 80.66008, 75.01546, 69.00982, 62.82015, 56.53616, 50.30962, 44.27789, 38.51933, 33.12582, 28.15077, 23.64697, 19.62054, 16.08304, 13.02772, 10.42042, 8.23262, 6.4256, 4.95143, 3.76152, 2.81741, 2.08573, 1.52538, 1.09756, 0.77873, 0.54502, 0.37526, 0.25691, 0.1729, 0.11389, 0.07332, 0.047, 0.02961, 0.01849, 0.01123, 0.00668, 0.00376, 0.00218, 0.00128, 0.00063, 0.00038, 0.00027, 0.00011, 7e-05, 3e-05, 1e-05, 0.0, 0.0, 0.0, 0.0, 0.0, 0.0, 0.0, 0.0]\n"
     ]
    }
   ],
   "source": [
    "percent_that_reach = [totals[i]/100000 for i in range(60)]\n",
    "print(percent_that_reach)"
   ]
  },
  {
   "cell_type": "code",
   "execution_count": 18,
   "metadata": {},
   "outputs": [
    {
     "name": "stdout",
     "output_type": "stream",
     "text": [
      "0    10000000\n",
      "1    10000000\n",
      "2    9900048\n",
      "3    9702310\n",
      "4    9410659\n",
      "5    9032883\n",
      "6    8581285\n",
      "7    8066008\n",
      "8    7501546\n",
      "9    6900982\n",
      "10    6282015\n",
      "11    5653616\n",
      "12    5030962\n",
      "13    4427789\n",
      "14    3851933\n",
      "15    3312582\n",
      "16    2815077\n",
      "17    2364697\n",
      "18    1962054\n",
      "19    1608304\n",
      "20    1302772\n",
      "21    1042042\n",
      "22    823262\n",
      "23    642560\n",
      "24    495143\n",
      "25    376152\n",
      "26    281741\n",
      "27    208573\n",
      "28    152538\n",
      "29    109756\n",
      "30    77873\n",
      "31    54502\n",
      "32    37526\n",
      "33    25691\n",
      "34    17290\n",
      "35    11389\n",
      "36    7332\n",
      "37    4700\n",
      "38    2961\n",
      "39    1849\n",
      "40    1123\n",
      "41    668\n",
      "42    376\n",
      "43    218\n",
      "44    128\n",
      "45    63\n",
      "46    38\n",
      "47    27\n",
      "48    11\n",
      "49    7\n",
      "50    3\n",
      "51    1\n",
      "52    0\n",
      "53    0\n",
      "54    0\n",
      "55    0\n",
      "56    0\n",
      "57    0\n",
      "58    0\n",
      "59    0\n"
     ]
    }
   ],
   "source": [
    "\n",
    "for i in range(60):\n",
    "    print(f\"{i}    {totals[i]}\")\n"
   ]
  },
  {
   "cell_type": "code",
   "execution_count": 7,
   "metadata": {},
   "outputs": [
    {
     "name": "stdout",
     "output_type": "stream",
     "text": [
      "10.6\n"
     ]
    }
   ],
   "source": [
    "total_above_38 = 0\n",
    "for i in range(10000):\n",
    "    current_game = Game()\n",
    "    for j in range(5000):\n",
    "        current_game.push_button()\n",
    "    if current_game.max_value >= 38:\n",
    "        total_above_38 += 1\n",
    "print(total_above_38/100)"
   ]
  }
 ],
 "metadata": {
  "kernelspec": {
   "display_name": ".venv",
   "language": "python",
   "name": "python3"
  },
  "language_info": {
   "codemirror_mode": {
    "name": "ipython",
    "version": 3
   },
   "file_extension": ".py",
   "mimetype": "text/x-python",
   "name": "python",
   "nbconvert_exporter": "python",
   "pygments_lexer": "ipython3",
   "version": "3.10.12"
  }
 },
 "nbformat": 4,
 "nbformat_minor": 2
}
