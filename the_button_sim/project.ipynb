{
 "cells": [
  {
   "cell_type": "code",
   "execution_count": 8,
   "metadata": {},
   "outputs": [],
   "source": [
    "from Game_obj import Game"
   ]
  },
  {
   "cell_type": "code",
   "execution_count": 9,
   "metadata": {},
   "outputs": [
    {
     "name": "stdout",
     "output_type": "stream",
     "text": [
      "Max Value: 44\n",
      "Total Presses: 1000000\n",
      "Total Resets: 75654\n",
      "Presses to 0: 0\n",
      "Presses to 1: 1\n",
      "Presses to 2: 2\n",
      "Presses to 3: 3\n",
      "Presses to 4: 4\n",
      "Presses to 5: 5\n",
      "Presses to 6: 6\n",
      "Presses to 7: 7\n",
      "Presses to 8: 8\n",
      "Presses to 9: 9\n",
      "Presses to 10: 10\n",
      "Presses to 11: 11\n",
      "Presses to 12: 12\n",
      "Presses to 13: 26\n",
      "Presses to 14: 27\n",
      "Presses to 15: 28\n",
      "Presses to 16: 29\n",
      "Presses to 17: 30\n",
      "Presses to 18: 31\n",
      "Presses to 19: 32\n",
      "Presses to 20: 33\n",
      "Presses to 21: 34\n",
      "Presses to 22: 35\n",
      "Presses to 23: 36\n",
      "Presses to 24: 93\n",
      "Presses to 25: 94\n",
      "Presses to 26: 95\n",
      "Presses to 27: 183\n",
      "Presses to 28: 639\n",
      "Presses to 29: 928\n",
      "Presses to 30: 929\n",
      "Presses to 31: 930\n",
      "Presses to 32: 931\n",
      "Presses to 33: 3820\n",
      "Presses to 34: 3821\n",
      "Presses to 35: 3822\n",
      "Presses to 36: 3823\n",
      "Presses to 37: 3824\n",
      "Presses to 38: 10772\n",
      "Presses to 39: 10773\n",
      "Presses to 40: 407802\n",
      "Presses to 41: 417948\n",
      "Presses to 42: 417949\n",
      "Presses to 43: 417950\n",
      "Presses to 44: 417951\n"
     ]
    }
   ],
   "source": [
    "first_game = Game()\n",
    "\n",
    "for i in range(1000000):\n",
    "    first_game.push_button()\n",
    "\n",
    "print(f\"Max Value: {first_game.max_value}\")\n",
    "print(f\"Total Presses: {first_game.total_presses}\")\n",
    "print(f\"Total Resets: {first_game.total_resets}\")\n",
    "\n",
    "i = 0\n",
    "for value in first_game.presses_to_new_max:\n",
    "    print(f\"Presses to {i}: {value}\")\n",
    "    i += 1"
   ]
  },
  {
   "cell_type": "code",
   "execution_count": null,
   "metadata": {},
   "outputs": [],
   "source": [
    "first_game.print_stats()"
   ]
  },
  {
   "cell_type": "code",
   "execution_count": 5,
   "metadata": {},
   "outputs": [
    {
     "name": "stdout",
     "output_type": "stream",
     "text": [
      "0\n"
     ]
    }
   ],
   "source": [
    "games = []\n",
    "for i in range(100):\n",
    "    current_game = Game()\n",
    "    for j in range(100000):\n",
    "        current_game.push_button()\n",
    "    games.append(current_game)\n",
    "    if (i % 100 == 0):\n",
    "        print(i)"
   ]
  },
  {
   "cell_type": "code",
   "execution_count": 7,
   "metadata": {},
   "outputs": [
    {
     "ename": "AttributeError",
     "evalue": "'Game' object has no attribute 'print_stats'",
     "output_type": "error",
     "traceback": [
      "\u001b[0;31m---------------------------------------------------------------------------\u001b[0m",
      "\u001b[0;31mAttributeError\u001b[0m                            Traceback (most recent call last)",
      "Cell \u001b[0;32mIn[7], line 1\u001b[0m\n\u001b[0;32m----> 1\u001b[0m \u001b[43mgames\u001b[49m\u001b[43m[\u001b[49m\u001b[38;5;241;43m44\u001b[39;49m\u001b[43m]\u001b[49m\u001b[38;5;241;43m.\u001b[39;49m\u001b[43mprint_stats\u001b[49m()\n",
      "\u001b[0;31mAttributeError\u001b[0m: 'Game' object has no attribute 'print_stats'"
     ]
    }
   ],
   "source": [
    "games[44].print_stats()"
   ]
  }
 ],
 "metadata": {
  "kernelspec": {
   "display_name": ".venv",
   "language": "python",
   "name": "python3"
  },
  "language_info": {
   "codemirror_mode": {
    "name": "ipython",
    "version": 3
   },
   "file_extension": ".py",
   "mimetype": "text/x-python",
   "name": "python",
   "nbconvert_exporter": "python",
   "pygments_lexer": "ipython3",
   "version": "3.10.12"
  }
 },
 "nbformat": 4,
 "nbformat_minor": 2
}
