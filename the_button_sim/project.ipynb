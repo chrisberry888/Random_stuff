{
 "cells": [
  {
   "cell_type": "code",
   "execution_count": 2,
   "metadata": {},
   "outputs": [],
   "source": [
    "import statistics\n",
    "import matplotlib.pyplot as plt\n",
    "import numpy as np\n",
    "import pandas as pd\n",
    "from game_obj import Game\n",
    "from session_obj import Session\n"
   ]
  },
  {
   "cell_type": "code",
   "execution_count": 3,
   "metadata": {},
   "outputs": [
    {
     "name": "stdout",
     "output_type": "stream",
     "text": [
      "Max Value: 47\n",
      "Total Presses: 1000000\n",
      "Total Resets: 75434\n",
      "Presses to 0: 0\n",
      "Presses to 1: 1\n",
      "Presses to 2: 2\n",
      "Presses to 3: 3\n",
      "Presses to 4: 4\n",
      "Presses to 5: 5\n",
      "Presses to 6: 6\n",
      "Presses to 7: 7\n",
      "Presses to 8: 8\n",
      "Presses to 9: 9\n",
      "Presses to 10: 10\n",
      "Presses to 11: 11\n",
      "Presses to 12: 12\n",
      "Presses to 13: 13\n",
      "Presses to 14: 14\n",
      "Presses to 15: 65\n",
      "Presses to 16: 66\n",
      "Presses to 17: 94\n",
      "Presses to 18: 95\n",
      "Presses to 19: 96\n",
      "Presses to 20: 97\n",
      "Presses to 21: 98\n",
      "Presses to 22: 99\n",
      "Presses to 23: 100\n",
      "Presses to 24: 177\n",
      "Presses to 25: 178\n",
      "Presses to 26: 542\n",
      "Presses to 27: 988\n",
      "Presses to 28: 989\n",
      "Presses to 29: 990\n",
      "Presses to 30: 991\n",
      "Presses to 31: 992\n",
      "Presses to 32: 2419\n",
      "Presses to 33: 2420\n",
      "Presses to 34: 2421\n",
      "Presses to 35: 2595\n",
      "Presses to 36: 42144\n",
      "Presses to 37: 42145\n",
      "Presses to 38: 42146\n",
      "Presses to 39: 55981\n",
      "Presses to 40: 104983\n",
      "Presses to 41: 104984\n",
      "Presses to 42: 104985\n",
      "Presses to 43: 389881\n",
      "Presses to 44: 389882\n",
      "Presses to 45: 389883\n",
      "Presses to 46: 389884\n",
      "Presses to 47: 389885\n"
     ]
    }
   ],
   "source": [
    "first_game = Game()\n",
    "\n",
    "for i in range(1000000):\n",
    "    first_game.push_button()\n",
    "\n",
    "print(f\"Max Value: {first_game.max_value}\")\n",
    "print(f\"Total Presses: {first_game.total_presses}\")\n",
    "print(f\"Total Resets: {first_game.total_resets}\")\n",
    "\n",
    "i = 0\n",
    "for value in first_game.presses_to_new_max:\n",
    "    print(f\"Presses to {i}: {value}\")\n",
    "    i += 1"
   ]
  },
  {
   "cell_type": "code",
   "execution_count": 4,
   "metadata": {},
   "outputs": [
    {
     "name": "stdout",
     "output_type": "stream",
     "text": [
      "Max Value: 47\n",
      "Total Presses: 1000000\n",
      "Total Resets: 75434\n",
      "Presses to 0: 0\n",
      "Presses to 1: 1\n",
      "Presses to 2: 2\n",
      "Presses to 3: 3\n",
      "Presses to 4: 4\n",
      "Presses to 5: 5\n",
      "Presses to 6: 6\n",
      "Presses to 7: 7\n",
      "Presses to 8: 8\n",
      "Presses to 9: 9\n",
      "Presses to 10: 10\n",
      "Presses to 11: 11\n",
      "Presses to 12: 12\n",
      "Presses to 13: 13\n",
      "Presses to 14: 14\n",
      "Presses to 15: 65\n",
      "Presses to 16: 66\n",
      "Presses to 17: 94\n",
      "Presses to 18: 95\n",
      "Presses to 19: 96\n",
      "Presses to 20: 97\n",
      "Presses to 21: 98\n",
      "Presses to 22: 99\n",
      "Presses to 23: 100\n",
      "Presses to 24: 177\n",
      "Presses to 25: 178\n",
      "Presses to 26: 542\n",
      "Presses to 27: 988\n",
      "Presses to 28: 989\n",
      "Presses to 29: 990\n",
      "Presses to 30: 991\n",
      "Presses to 31: 992\n",
      "Presses to 32: 2419\n",
      "Presses to 33: 2420\n",
      "Presses to 34: 2421\n",
      "Presses to 35: 2595\n",
      "Presses to 36: 42144\n",
      "Presses to 37: 42145\n",
      "Presses to 38: 42146\n",
      "Presses to 39: 55981\n",
      "Presses to 40: 104983\n",
      "Presses to 41: 104984\n",
      "Presses to 42: 104985\n",
      "Presses to 43: 389881\n",
      "Presses to 44: 389882\n",
      "Presses to 45: 389883\n",
      "Presses to 46: 389884\n",
      "Presses to 47: 389885\n",
      "\n"
     ]
    }
   ],
   "source": [
    "print(first_game.report_stats())"
   ]
  },
  {
   "cell_type": "code",
   "execution_count": 5,
   "metadata": {},
   "outputs": [
    {
     "name": "stdout",
     "output_type": "stream",
     "text": [
      "0\n"
     ]
    }
   ],
   "source": [
    "games = []\n",
    "for i in range(100):\n",
    "    current_game = Game()\n",
    "    for j in range(100000):\n",
    "        current_game.push_button()\n",
    "    games.append(current_game)\n",
    "    if (i % 100 == 0):\n",
    "        print(i)"
   ]
  },
  {
   "cell_type": "code",
   "execution_count": 6,
   "metadata": {},
   "outputs": [
    {
     "name": "stdout",
     "output_type": "stream",
     "text": [
      "Max Value: 39\n",
      "Total Presses: 100000\n",
      "Total Resets: 7585\n",
      "Presses to 0: 0\n",
      "Presses to 1: 1\n",
      "Presses to 2: 2\n",
      "Presses to 3: 3\n",
      "Presses to 4: 4\n",
      "Presses to 5: 5\n",
      "Presses to 6: 6\n",
      "Presses to 7: 7\n",
      "Presses to 8: 8\n",
      "Presses to 9: 9\n",
      "Presses to 10: 20\n",
      "Presses to 11: 21\n",
      "Presses to 12: 22\n",
      "Presses to 13: 67\n",
      "Presses to 14: 68\n",
      "Presses to 15: 69\n",
      "Presses to 16: 102\n",
      "Presses to 17: 103\n",
      "Presses to 18: 104\n",
      "Presses to 19: 145\n",
      "Presses to 20: 180\n",
      "Presses to 21: 181\n",
      "Presses to 22: 182\n",
      "Presses to 23: 360\n",
      "Presses to 24: 361\n",
      "Presses to 25: 362\n",
      "Presses to 26: 363\n",
      "Presses to 27: 364\n",
      "Presses to 28: 365\n",
      "Presses to 29: 366\n",
      "Presses to 30: 367\n",
      "Presses to 31: 368\n",
      "Presses to 32: 369\n",
      "Presses to 33: 2350\n",
      "Presses to 34: 2351\n",
      "Presses to 35: 31264\n",
      "Presses to 36: 31265\n",
      "Presses to 37: 31266\n",
      "Presses to 38: 31267\n",
      "Presses to 39: 31268\n",
      "\n"
     ]
    }
   ],
   "source": [
    "print(games[45].report_stats())"
   ]
  },
  {
   "cell_type": "code",
   "execution_count": 11,
   "metadata": {},
   "outputs": [],
   "source": [
    "sessions = []\n",
    "for i in range(1000000):\n",
    "    current_session = Session()\n",
    "    ticker = True\n",
    "    while ticker:\n",
    "        ticker = current_session.push_button()\n",
    "    sessions.append(current_session.current_value)\n"
   ]
  },
  {
   "cell_type": "code",
   "execution_count": 4,
   "metadata": {},
   "outputs": [
    {
     "name": "stdout",
     "output_type": "stream",
     "text": [
      "[0, 10056, 19803, 29112, 37330, 45092, 51527, 56670, 60273, 62609, 62598, 62058, 60535, 57579, 53896, 49442, 44953, 40289, 35274, 30303, 26182, 21840, 18285, 14577, 11827, 9546, 7414, 5548, 4225, 3208, 2417, 1693, 1201, 865, 577, 434, 276, 186, 103, 65, 46, 42, 20, 11, 4, 2, 3, 4, 0, 0, 0, 0, 0, 0, 0, 0, 0, 0, 0, 0]\n"
     ]
    }
   ],
   "source": [
    "counts = []\n",
    "for i in range(60):\n",
    "    counts.append(sessions.count(i))\n",
    "\n",
    "print(counts)"
   ]
  },
  {
   "cell_type": "code",
   "execution_count": 8,
   "metadata": {},
   "outputs": [
    {
     "data": {
      "image/png": "[encoded data removed]",
      "text/plain": [
       "<Figure size 640x480 with 1 Axes>"
      ]
     },
     "metadata": {},
     "output_type": "display_data"
    }
   ],
   "source": [
    "plt.bar(range(60), counts)\n",
    "plt.show()"
   ]
  },
  {
   "cell_type": "code",
   "execution_count": 16,
   "metadata": {},
   "outputs": [],
   "source": [
    "totals = [sum(counts[i:]) for i in range(60)]"
   ]
  },
  {
   "cell_type": "code",
   "execution_count": 18,
   "metadata": {},
   "outputs": [
    {
     "name": "stdout",
     "output_type": "stream",
     "text": [
      "[100.0, 100.0, 98.9944, 97.0141, 94.1029, 90.3699, 85.8607, 80.708, 75.041, 69.0137, 62.7528, 56.493, 50.2872, 44.2337, 38.4758, 33.0862, 28.142, 23.6467, 19.6178, 16.0904, 13.0601, 10.4419, 8.2579, 6.4294, 4.9717, 3.789, 2.8344, 2.093, 1.5382, 1.1157, 0.7949, 0.5532, 0.3839, 0.2638, 0.1773, 0.1196, 0.0762, 0.0486, 0.03, 0.0197, 0.0132, 0.0086, 0.0044, 0.0024, 0.0013, 0.0009, 0.0007, 0.0004, 0.0, 0.0, 0.0, 0.0, 0.0, 0.0, 0.0, 0.0, 0.0, 0.0, 0.0, 0.0]\n"
     ]
    }
   ],
   "source": [
    "percent_that_reach = [totals[i]/10000 for i in range(60)]\n",
    "print(percent_that_reach)"
   ]
  }
 ],
 "metadata": {
  "kernelspec": {
   "display_name": ".venv",
   "language": "python",
   "name": "python3"
  },
  "language_info": {
   "codemirror_mode": {
    "name": "ipython",
    "version": 3
   },
   "file_extension": ".py",
   "mimetype": "text/x-python",
   "name": "python",
   "nbconvert_exporter": "python",
   "pygments_lexer": "ipython3",
   "version": "3.10.12"
  }
 },
 "nbformat": 4,
 "nbformat_minor": 2
}
